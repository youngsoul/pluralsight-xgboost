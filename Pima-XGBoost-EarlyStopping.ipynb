{
 "cells": [
  {
   "cell_type": "code",
   "execution_count": 2,
   "metadata": {},
   "outputs": [],
   "source": [
    "from numpy import loadtxt\n",
    "from xgboost import XGBClassifier\n",
    "from sklearn.model_selection import train_test_split, cross_val_score, StratifiedKFold\n",
    "from sklearn.metrics import accuracy_score\n",
    "import pandas as pd"
   ]
  },
  {
   "cell_type": "code",
   "execution_count": 3,
   "metadata": {},
   "outputs": [],
   "source": [
    "df = pd.read_csv(\"./exercise_files/xgboost-python-scikit-learn-machine-learning/05/demos/pima.txt\", header=None)"
   ]
  },
  {
   "cell_type": "code",
   "execution_count": 4,
   "metadata": {},
   "outputs": [
    {
     "data": {
      "text/html": [
       "<div>\n",
       "<style scoped>\n",
       "    .dataframe tbody tr th:only-of-type {\n",
       "        vertical-align: middle;\n",
       "    }\n",
       "\n",
       "    .dataframe tbody tr th {\n",
       "        vertical-align: top;\n",
       "    }\n",
       "\n",
       "    .dataframe thead th {\n",
       "        text-align: right;\n",
       "    }\n",
       "</style>\n",
       "<table border=\"1\" class=\"dataframe\">\n",
       "  <thead>\n",
       "    <tr style=\"text-align: right;\">\n",
       "      <th></th>\n",
       "      <th>0</th>\n",
       "      <th>1</th>\n",
       "      <th>2</th>\n",
       "      <th>3</th>\n",
       "      <th>4</th>\n",
       "      <th>5</th>\n",
       "      <th>6</th>\n",
       "      <th>7</th>\n",
       "      <th>8</th>\n",
       "    </tr>\n",
       "  </thead>\n",
       "  <tbody>\n",
       "    <tr>\n",
       "      <th>0</th>\n",
       "      <td>6</td>\n",
       "      <td>148</td>\n",
       "      <td>72</td>\n",
       "      <td>35</td>\n",
       "      <td>0</td>\n",
       "      <td>33.6</td>\n",
       "      <td>0.627</td>\n",
       "      <td>50</td>\n",
       "      <td>1</td>\n",
       "    </tr>\n",
       "    <tr>\n",
       "      <th>1</th>\n",
       "      <td>1</td>\n",
       "      <td>85</td>\n",
       "      <td>66</td>\n",
       "      <td>29</td>\n",
       "      <td>0</td>\n",
       "      <td>26.6</td>\n",
       "      <td>0.351</td>\n",
       "      <td>31</td>\n",
       "      <td>0</td>\n",
       "    </tr>\n",
       "    <tr>\n",
       "      <th>2</th>\n",
       "      <td>8</td>\n",
       "      <td>183</td>\n",
       "      <td>64</td>\n",
       "      <td>0</td>\n",
       "      <td>0</td>\n",
       "      <td>23.3</td>\n",
       "      <td>0.672</td>\n",
       "      <td>32</td>\n",
       "      <td>1</td>\n",
       "    </tr>\n",
       "    <tr>\n",
       "      <th>3</th>\n",
       "      <td>1</td>\n",
       "      <td>89</td>\n",
       "      <td>66</td>\n",
       "      <td>23</td>\n",
       "      <td>94</td>\n",
       "      <td>28.1</td>\n",
       "      <td>0.167</td>\n",
       "      <td>21</td>\n",
       "      <td>0</td>\n",
       "    </tr>\n",
       "    <tr>\n",
       "      <th>4</th>\n",
       "      <td>0</td>\n",
       "      <td>137</td>\n",
       "      <td>40</td>\n",
       "      <td>35</td>\n",
       "      <td>168</td>\n",
       "      <td>43.1</td>\n",
       "      <td>2.288</td>\n",
       "      <td>33</td>\n",
       "      <td>1</td>\n",
       "    </tr>\n",
       "  </tbody>\n",
       "</table>\n",
       "</div>"
      ],
      "text/plain": [
       "   0    1   2   3    4     5      6   7  8\n",
       "0  6  148  72  35    0  33.6  0.627  50  1\n",
       "1  1   85  66  29    0  26.6  0.351  31  0\n",
       "2  8  183  64   0    0  23.3  0.672  32  1\n",
       "3  1   89  66  23   94  28.1  0.167  21  0\n",
       "4  0  137  40  35  168  43.1  2.288  33  1"
      ]
     },
     "execution_count": 4,
     "metadata": {},
     "output_type": "execute_result"
    }
   ],
   "source": [
    "df.head()"
   ]
  },
  {
   "cell_type": "code",
   "execution_count": 5,
   "metadata": {},
   "outputs": [],
   "source": [
    "X = df.loc[:,0:7]\n",
    "y = df.loc[:,8]"
   ]
  },
  {
   "cell_type": "code",
   "execution_count": 6,
   "metadata": {},
   "outputs": [
    {
     "data": {
      "text/plain": [
       "(768, 8)"
      ]
     },
     "execution_count": 6,
     "metadata": {},
     "output_type": "execute_result"
    }
   ],
   "source": [
    "X.shape"
   ]
  },
  {
   "cell_type": "code",
   "execution_count": 7,
   "metadata": {},
   "outputs": [
    {
     "data": {
      "text/plain": [
       "(768,)"
      ]
     },
     "execution_count": 7,
     "metadata": {},
     "output_type": "execute_result"
    }
   ],
   "source": [
    "y.shape"
   ]
  },
  {
   "cell_type": "code",
   "execution_count": 8,
   "metadata": {},
   "outputs": [],
   "source": [
    "X_train, X_test, y_train, y_test = train_test_split(X,y,test_size=0.3, random_state=7)"
   ]
  },
  {
   "cell_type": "code",
   "execution_count": 12,
   "metadata": {},
   "outputs": [],
   "source": [
    "model = XGBClassifier()"
   ]
  },
  {
   "cell_type": "code",
   "execution_count": 13,
   "metadata": {},
   "outputs": [
    {
     "data": {
      "text/plain": [
       "XGBClassifier(base_score=0.5, booster='gbtree', colsample_bylevel=1,\n",
       "       colsample_bytree=1, gamma=0, learning_rate=0.1, max_delta_step=0,\n",
       "       max_depth=3, min_child_weight=1, missing=None, n_estimators=100,\n",
       "       n_jobs=1, nthread=None, objective='binary:logistic', random_state=0,\n",
       "       reg_alpha=0, reg_lambda=1, scale_pos_weight=1, seed=None,\n",
       "       silent=True, subsample=1)"
      ]
     },
     "execution_count": 13,
     "metadata": {},
     "output_type": "execute_result"
    }
   ],
   "source": [
    "model.fit(X_train, y_train)"
   ]
  },
  {
   "cell_type": "code",
   "execution_count": 14,
   "metadata": {},
   "outputs": [
    {
     "name": "stdout",
     "output_type": "stream",
     "text": [
      "[0]\tvalidation_0-error:0.25974\n",
      "[1]\tvalidation_0-error:0.25974\n",
      "[2]\tvalidation_0-error:0.25974\n",
      "[3]\tvalidation_0-error:0.25974\n",
      "[4]\tvalidation_0-error:0.233766\n",
      "[5]\tvalidation_0-error:0.242424\n",
      "[6]\tvalidation_0-error:0.255411\n",
      "[7]\tvalidation_0-error:0.238095\n",
      "[8]\tvalidation_0-error:0.233766\n",
      "[9]\tvalidation_0-error:0.238095\n",
      "[10]\tvalidation_0-error:0.238095\n",
      "[11]\tvalidation_0-error:0.233766\n",
      "[12]\tvalidation_0-error:0.238095\n",
      "[13]\tvalidation_0-error:0.238095\n",
      "[14]\tvalidation_0-error:0.242424\n",
      "[15]\tvalidation_0-error:0.233766\n",
      "[16]\tvalidation_0-error:0.229437\n",
      "[17]\tvalidation_0-error:0.229437\n",
      "[18]\tvalidation_0-error:0.229437\n",
      "[19]\tvalidation_0-error:0.229437\n",
      "[20]\tvalidation_0-error:0.229437\n",
      "[21]\tvalidation_0-error:0.229437\n",
      "[22]\tvalidation_0-error:0.238095\n",
      "[23]\tvalidation_0-error:0.225108\n",
      "[24]\tvalidation_0-error:0.212121\n",
      "[25]\tvalidation_0-error:0.220779\n",
      "[26]\tvalidation_0-error:0.220779\n",
      "[27]\tvalidation_0-error:0.212121\n",
      "[28]\tvalidation_0-error:0.21645\n",
      "[29]\tvalidation_0-error:0.21645\n",
      "[30]\tvalidation_0-error:0.207792\n",
      "[31]\tvalidation_0-error:0.207792\n",
      "[32]\tvalidation_0-error:0.212121\n",
      "[33]\tvalidation_0-error:0.207792\n",
      "[34]\tvalidation_0-error:0.207792\n",
      "[35]\tvalidation_0-error:0.21645\n",
      "[36]\tvalidation_0-error:0.207792\n",
      "[37]\tvalidation_0-error:0.207792\n",
      "[38]\tvalidation_0-error:0.21645\n",
      "[39]\tvalidation_0-error:0.212121\n",
      "[40]\tvalidation_0-error:0.212121\n",
      "[41]\tvalidation_0-error:0.21645\n",
      "[42]\tvalidation_0-error:0.21645\n",
      "[43]\tvalidation_0-error:0.21645\n",
      "[44]\tvalidation_0-error:0.220779\n",
      "[45]\tvalidation_0-error:0.220779\n",
      "[46]\tvalidation_0-error:0.229437\n",
      "[47]\tvalidation_0-error:0.229437\n",
      "[48]\tvalidation_0-error:0.229437\n",
      "[49]\tvalidation_0-error:0.233766\n",
      "[50]\tvalidation_0-error:0.225108\n",
      "[51]\tvalidation_0-error:0.229437\n",
      "[52]\tvalidation_0-error:0.225108\n",
      "[53]\tvalidation_0-error:0.229437\n",
      "[54]\tvalidation_0-error:0.229437\n",
      "[55]\tvalidation_0-error:0.229437\n",
      "[56]\tvalidation_0-error:0.229437\n",
      "[57]\tvalidation_0-error:0.229437\n",
      "[58]\tvalidation_0-error:0.229437\n",
      "[59]\tvalidation_0-error:0.220779\n",
      "[60]\tvalidation_0-error:0.225108\n",
      "[61]\tvalidation_0-error:0.225108\n",
      "[62]\tvalidation_0-error:0.225108\n",
      "[63]\tvalidation_0-error:0.225108\n",
      "[64]\tvalidation_0-error:0.220779\n",
      "[65]\tvalidation_0-error:0.21645\n",
      "[66]\tvalidation_0-error:0.21645\n",
      "[67]\tvalidation_0-error:0.21645\n",
      "[68]\tvalidation_0-error:0.212121\n",
      "[69]\tvalidation_0-error:0.212121\n",
      "[70]\tvalidation_0-error:0.212121\n",
      "[71]\tvalidation_0-error:0.212121\n",
      "[72]\tvalidation_0-error:0.212121\n",
      "[73]\tvalidation_0-error:0.212121\n",
      "[74]\tvalidation_0-error:0.212121\n",
      "[75]\tvalidation_0-error:0.21645\n",
      "[76]\tvalidation_0-error:0.21645\n",
      "[77]\tvalidation_0-error:0.21645\n",
      "[78]\tvalidation_0-error:0.21645\n",
      "[79]\tvalidation_0-error:0.21645\n",
      "[80]\tvalidation_0-error:0.21645\n",
      "[81]\tvalidation_0-error:0.212121\n",
      "[82]\tvalidation_0-error:0.21645\n",
      "[83]\tvalidation_0-error:0.21645\n",
      "[84]\tvalidation_0-error:0.21645\n",
      "[85]\tvalidation_0-error:0.212121\n",
      "[86]\tvalidation_0-error:0.21645\n",
      "[87]\tvalidation_0-error:0.212121\n",
      "[88]\tvalidation_0-error:0.21645\n",
      "[89]\tvalidation_0-error:0.21645\n",
      "[90]\tvalidation_0-error:0.220779\n",
      "[91]\tvalidation_0-error:0.21645\n",
      "[92]\tvalidation_0-error:0.21645\n",
      "[93]\tvalidation_0-error:0.220779\n",
      "[94]\tvalidation_0-error:0.225108\n",
      "[95]\tvalidation_0-error:0.225108\n",
      "[96]\tvalidation_0-error:0.225108\n",
      "[97]\tvalidation_0-error:0.212121\n",
      "[98]\tvalidation_0-error:0.21645\n",
      "[99]\tvalidation_0-error:0.220779\n"
     ]
    },
    {
     "data": {
      "text/plain": [
       "XGBClassifier(base_score=0.5, booster='gbtree', colsample_bylevel=1,\n",
       "       colsample_bytree=1, gamma=0, learning_rate=0.1, max_delta_step=0,\n",
       "       max_depth=3, min_child_weight=1, missing=None, n_estimators=100,\n",
       "       n_jobs=1, nthread=None, objective='binary:logistic', random_state=0,\n",
       "       reg_alpha=0, reg_lambda=1, scale_pos_weight=1, seed=None,\n",
       "       silent=True, subsample=1)"
      ]
     },
     "execution_count": 14,
     "metadata": {},
     "output_type": "execute_result"
    }
   ],
   "source": [
    "model.fit(X_train, y_train, eval_metric=\"error\", eval_set=[(X_test, y_test)], verbose=True)"
   ]
  },
  {
   "cell_type": "code",
   "execution_count": 15,
   "metadata": {},
   "outputs": [
    {
     "name": "stdout",
     "output_type": "stream",
     "text": [
      "[0]\tvalidation_0-error:0.25974\n",
      "Will train until validation_0-error hasn't improved in 36 rounds.\n",
      "[1]\tvalidation_0-error:0.25974\n",
      "[2]\tvalidation_0-error:0.25974\n",
      "[3]\tvalidation_0-error:0.25974\n",
      "[4]\tvalidation_0-error:0.233766\n",
      "[5]\tvalidation_0-error:0.242424\n",
      "[6]\tvalidation_0-error:0.255411\n",
      "[7]\tvalidation_0-error:0.238095\n",
      "[8]\tvalidation_0-error:0.233766\n",
      "[9]\tvalidation_0-error:0.238095\n",
      "[10]\tvalidation_0-error:0.238095\n",
      "[11]\tvalidation_0-error:0.233766\n",
      "[12]\tvalidation_0-error:0.238095\n",
      "[13]\tvalidation_0-error:0.238095\n",
      "[14]\tvalidation_0-error:0.242424\n",
      "[15]\tvalidation_0-error:0.233766\n",
      "[16]\tvalidation_0-error:0.229437\n",
      "[17]\tvalidation_0-error:0.229437\n",
      "[18]\tvalidation_0-error:0.229437\n",
      "[19]\tvalidation_0-error:0.229437\n",
      "[20]\tvalidation_0-error:0.229437\n",
      "[21]\tvalidation_0-error:0.229437\n",
      "[22]\tvalidation_0-error:0.238095\n",
      "[23]\tvalidation_0-error:0.225108\n",
      "[24]\tvalidation_0-error:0.212121\n",
      "[25]\tvalidation_0-error:0.220779\n",
      "[26]\tvalidation_0-error:0.220779\n",
      "[27]\tvalidation_0-error:0.212121\n",
      "[28]\tvalidation_0-error:0.21645\n",
      "[29]\tvalidation_0-error:0.21645\n",
      "[30]\tvalidation_0-error:0.207792\n",
      "[31]\tvalidation_0-error:0.207792\n",
      "[32]\tvalidation_0-error:0.212121\n",
      "[33]\tvalidation_0-error:0.207792\n",
      "[34]\tvalidation_0-error:0.207792\n",
      "[35]\tvalidation_0-error:0.21645\n",
      "[36]\tvalidation_0-error:0.207792\n",
      "[37]\tvalidation_0-error:0.207792\n",
      "[38]\tvalidation_0-error:0.21645\n",
      "[39]\tvalidation_0-error:0.212121\n",
      "[40]\tvalidation_0-error:0.212121\n",
      "[41]\tvalidation_0-error:0.21645\n",
      "[42]\tvalidation_0-error:0.21645\n",
      "[43]\tvalidation_0-error:0.21645\n",
      "[44]\tvalidation_0-error:0.220779\n",
      "[45]\tvalidation_0-error:0.220779\n",
      "[46]\tvalidation_0-error:0.229437\n",
      "[47]\tvalidation_0-error:0.229437\n",
      "[48]\tvalidation_0-error:0.229437\n",
      "[49]\tvalidation_0-error:0.233766\n",
      "[50]\tvalidation_0-error:0.225108\n",
      "[51]\tvalidation_0-error:0.229437\n",
      "[52]\tvalidation_0-error:0.225108\n",
      "[53]\tvalidation_0-error:0.229437\n",
      "[54]\tvalidation_0-error:0.229437\n",
      "[55]\tvalidation_0-error:0.229437\n",
      "[56]\tvalidation_0-error:0.229437\n",
      "[57]\tvalidation_0-error:0.229437\n",
      "[58]\tvalidation_0-error:0.229437\n",
      "[59]\tvalidation_0-error:0.220779\n",
      "[60]\tvalidation_0-error:0.225108\n",
      "[61]\tvalidation_0-error:0.225108\n",
      "[62]\tvalidation_0-error:0.225108\n",
      "[63]\tvalidation_0-error:0.225108\n",
      "[64]\tvalidation_0-error:0.220779\n",
      "[65]\tvalidation_0-error:0.21645\n",
      "[66]\tvalidation_0-error:0.21645\n",
      "Stopping. Best iteration:\n",
      "[30]\tvalidation_0-error:0.207792\n",
      "\n"
     ]
    },
    {
     "data": {
      "text/plain": [
       "XGBClassifier(base_score=0.5, booster='gbtree', colsample_bylevel=1,\n",
       "       colsample_bytree=1, gamma=0, learning_rate=0.1, max_delta_step=0,\n",
       "       max_depth=3, min_child_weight=1, missing=None, n_estimators=100,\n",
       "       n_jobs=1, nthread=None, objective='binary:logistic', random_state=0,\n",
       "       reg_alpha=0, reg_lambda=1, scale_pos_weight=1, seed=None,\n",
       "       silent=True, subsample=1)"
      ]
     },
     "execution_count": 15,
     "metadata": {},
     "output_type": "execute_result"
    }
   ],
   "source": [
    "# looking at the indexes and errors, you see about index = 36, to be the lowest error\n",
    "model.fit(X_train, y_train, eval_metric=\"error\", early_stopping_rounds=36, eval_set=[(X_test, y_test)], verbose=True)"
   ]
  },
  {
   "cell_type": "code",
   "execution_count": 16,
   "metadata": {},
   "outputs": [],
   "source": [
    "y_pred = model.predict(X_test)\n",
    "predictions = [round(value) for value in y_pred]"
   ]
  },
  {
   "cell_type": "code",
   "execution_count": 17,
   "metadata": {},
   "outputs": [
    {
     "name": "stdout",
     "output_type": "stream",
     "text": [
      "Accuracy: 0.79\n"
     ]
    }
   ],
   "source": [
    "accuracy = accuracy_score(y_test, predictions)\n",
    "print(f\"Accuracy: {accuracy:0.2f}\")"
   ]
  }
 ],
 "metadata": {
  "kernelspec": {
   "display_name": "Python 3",
   "language": "python",
   "name": "python3"
  },
  "language_info": {
   "codemirror_mode": {
    "name": "ipython",
    "version": 3
   },
   "file_extension": ".py",
   "mimetype": "text/x-python",
   "name": "python",
   "nbconvert_exporter": "python",
   "pygments_lexer": "ipython3",
   "version": "3.6.3"
  }
 },
 "nbformat": 4,
 "nbformat_minor": 2
}
